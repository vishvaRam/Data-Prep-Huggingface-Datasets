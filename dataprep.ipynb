{
 "cells": [
  {
   "cell_type": "code",
   "execution_count": null,
   "id": "1be4dffc",
   "metadata": {},
   "outputs": [],
   "source": [
    "from datasets import load_dataset,DatasetDict,Dataset\n",
    "from PIL import Image"
   ]
  },
  {
   "cell_type": "code",
   "execution_count": null,
   "id": "7fbdbcf2",
   "metadata": {},
   "outputs": [],
   "source": [
    "dataset = load_dataset(\"openbmb/RLAIF-V-Dataset\",split=\"train[:10%]\")\n",
    "print(dataset)\n",
    "\n",
    "# Dataset({\n",
    "#     features: ['ds_name', 'image', 'question', 'chosen', 'rejected', 'origin_dataset', 'origin_split', 'idx', 'image_path'],\n",
    "#     num_rows: 8313\n",
    "# })"
   ]
  },
  {
   "cell_type": "code",
   "execution_count": null,
   "id": "c99fdb07",
   "metadata": {},
   "outputs": [],
   "source": [
    "train_test_val = dataset.train_test_split(train_size=0.8, test_size=0.2, seed=42)\n",
    "train_val = train_test_val['test'].train_test_split(train_size=0.5, test_size=0.5, seed=42)"
   ]
  },
  {
   "cell_type": "code",
   "execution_count": null,
   "id": "d9b37514",
   "metadata": {},
   "outputs": [],
   "source": [
    "train_dataset = train_test_val['train']\n",
    "val_dataset = train_val['train']\n",
    "test_dataset = train_val['test']"
   ]
  },
  {
   "cell_type": "code",
   "execution_count": null,
   "id": "c4cbaa8b",
   "metadata": {},
   "outputs": [],
   "source": [
    "rlaif_dataset = DatasetDict({\n",
    "    'train': train_dataset,\n",
    "    'val': val_dataset,\n",
    "    'test': test_dataset\n",
    "})\n",
    "\n",
    "print(rlaif_dataset)\n",
    "\n",
    "# DatasetDict({\n",
    "#     train: Dataset({\n",
    "#         features: ['ds_name', 'image', 'question', 'chosen', 'rejected', 'origin_dataset', 'origin_split', 'idx', 'image_path'],\n",
    "#         num_rows: 6650\n",
    "#     })\n",
    "#     val: Dataset({\n",
    "#         features: ['ds_name', 'image', 'question', 'chosen', 'rejected', 'origin_dataset', 'origin_split', 'idx', 'image_path'],\n",
    "#         num_rows: 831\n",
    "#     })\n",
    "#     test: Dataset({\n",
    "#         features: ['ds_name', 'image', 'question', 'chosen', 'rejected', 'origin_dataset', 'origin_split', 'idx', 'image_path'],\n",
    "#         num_rows: 832\n",
    "#     })\n",
    "# })"
   ]
  },
  {
   "cell_type": "code",
   "execution_count": null,
   "id": "f16f25a7",
   "metadata": {},
   "outputs": [],
   "source": [
    "train_size = 6650\n",
    "val_size = 831\n",
    "test_size = 832\n",
    "total_size = train_size + val_size + test_size\n",
    "\n",
    "train_percentage = (train_size / total_size) * 100\n",
    "val_percentage = (val_size / total_size) * 100\n",
    "test_percentage = (test_size / total_size) * 100\n",
    "\n",
    "print(f\"Train percentage: {train_percentage:.2f}%\")\n",
    "print(f\"Validation percentage: {val_percentage:.2f}%\")\n",
    "print(f\"Test percentage: {test_percentage:.2f}%\")\n",
    "\n",
    "# Train percentage: 80.00%\n",
    "# Validation percentage: 10.00%\n",
    "# Test percentage: 10.01%"
   ]
  },
  {
   "cell_type": "code",
   "execution_count": null,
   "id": "d2d83213",
   "metadata": {},
   "outputs": [],
   "source": [
    "from huggingface_hub import login\n",
    "login(token=\"\")"
   ]
  },
  {
   "cell_type": "code",
   "execution_count": null,
   "id": "aed5b907",
   "metadata": {},
   "outputs": [],
   "source": [
    "repo_name = \"RLAIF-V-Dataset-8k\"\n",
    "owner = \"Vishva007\"  # Replace with your Hugging Face username\n",
    "full_repo_name = f\"{owner}/{repo_name}\""
   ]
  },
  {
   "cell_type": "code",
   "execution_count": null,
   "id": "1e9df619",
   "metadata": {},
   "outputs": [],
   "source": [
    "\n",
    "# Push the dataset to Hugging Face Hub\n",
    "rlaif_dataset.push_to_hub(full_repo_name)\n",
    "\n",
    "print(f\"Dataset uploaded to https://huggingface.co/datasets/{full_repo_name}\")"
   ]
  },
  {
   "cell_type": "code",
   "execution_count": null,
   "id": "c3c4f22c",
   "metadata": {},
   "outputs": [],
   "source": []
  }
 ],
 "metadata": {
  "kernelspec": {
   "display_name": ".venv",
   "language": "python",
   "name": "python3"
  },
  "language_info": {
   "codemirror_mode": {
    "name": "ipython",
    "version": 3
   },
   "file_extension": ".py",
   "mimetype": "text/x-python",
   "name": "python",
   "nbconvert_exporter": "python",
   "pygments_lexer": "ipython3",
   "version": "3.10.11"
  }
 },
 "nbformat": 4,
 "nbformat_minor": 5
}
